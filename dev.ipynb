{
 "cells": [
  {
   "cell_type": "code",
   "id": "initial_id",
   "metadata": {
    "collapsed": true,
    "ExecuteTime": {
     "end_time": "2025-04-14T15:12:00.026302Z",
     "start_time": "2025-04-14T15:12:00.021353Z"
    }
   },
   "source": [
    "import numpy as np\n",
    "import importlib\n",
    "import matplotlib.pyplot as plt\n",
    "import sklearn.decomposition as decomposition\n",
    "import sklearn.ensemble as ensemble\n",
    "import sklearn.svm as svm"
   ],
   "outputs": [],
   "execution_count": 165
  },
  {
   "metadata": {
    "ExecuteTime": {
     "end_time": "2025-04-14T12:50:21.351391Z",
     "start_time": "2025-04-14T12:50:21.342549Z"
    }
   },
   "cell_type": "code",
   "source": [
    "import dataGenerator\n",
    "importlib.reload(dataGenerator)"
   ],
   "id": "4ab41e5f40eb8528",
   "outputs": [
    {
     "data": {
      "text/plain": [
       "<module 'dataGenerator' from 'C:\\\\Users\\\\18pep\\\\Documents\\\\sem_I\\\\DVaE\\\\clustering_dimensions_reduction\\\\dataGenerator.py'>"
      ]
     },
     "execution_count": 151,
     "metadata": {},
     "output_type": "execute_result"
    }
   ],
   "execution_count": 151
  },
  {
   "metadata": {
    "ExecuteTime": {
     "end_time": "2025-04-14T12:49:48.028263Z",
     "start_time": "2025-04-14T12:49:48.023060Z"
    }
   },
   "cell_type": "code",
   "source": [
    "X,y= (dataGenerator.dataGenerator(500)\n",
    "     .generate_relevant(0,2.5,1,1.5,5)\n",
    "     .generate_irrelevant(2,5)\n",
    "     .generate_correlated(5)\n",
    "     .generate_redundant(5)\n",
    "     .build())"
   ],
   "id": "1088ed58732ebbd1",
   "outputs": [],
   "execution_count": 147
  },
  {
   "metadata": {
    "ExecuteTime": {
     "end_time": "2025-04-14T13:12:35.595913Z",
     "start_time": "2025-04-14T13:12:35.589958Z"
    }
   },
   "cell_type": "code",
   "source": "X[0]",
   "id": "1ea0132ef9b9159c",
   "outputs": [
    {
     "data": {
      "text/plain": [
       "array([-0.67004481, -0.98174288, -0.11897465, -0.60471777, -1.42798813,\n",
       "        1.1123472 ,  0.015864  ,  0.5499582 ,  1.2502887 ,  0.12547627,\n",
       "       -0.9233141 ,  0.49019279, -0.97249034, -0.80085356, -1.24429805,\n",
       "       -0.60471777, -0.16679261,  0.83228651, -0.67004481, -0.16679261])"
      ]
     },
     "execution_count": 159,
     "metadata": {},
     "output_type": "execute_result"
    }
   ],
   "execution_count": 159
  },
  {
   "metadata": {
    "ExecuteTime": {
     "end_time": "2025-04-14T13:13:08.029061Z",
     "start_time": "2025-04-14T13:13:08.023009Z"
    }
   },
   "cell_type": "code",
   "source": "",
   "id": "7acb1c4873e5ecf9",
   "outputs": [
    {
     "data": {
      "text/plain": [
       "array([[-2.79320187e+01, -6.07617389e+00, -5.31864327e+00,\n",
       "         6.26491239e-01, -9.24235186e-01],\n",
       "       [-2.78909200e+01, -5.48867073e+00, -4.03364110e+00,\n",
       "        -1.34036189e-01, -2.50840023e-01],\n",
       "       [-2.85884007e+01, -5.42245716e+00, -3.13617581e+00,\n",
       "         8.10309051e-01,  1.34366830e+00],\n",
       "       ...,\n",
       "       [-2.60753536e+01, -2.37145961e-01,  5.79463228e+00,\n",
       "        -1.72921412e+00,  5.79166255e+00],\n",
       "       [ 1.49671951e+02,  4.37165761e+01, -2.59603220e+00,\n",
       "        -3.78113039e+00,  1.00472226e+00],\n",
       "       [ 2.09332693e+02,  6.00620968e+01, -8.43476992e+00,\n",
       "        -1.89871742e-01,  5.77280077e-01]], shape=(500, 5))"
      ]
     },
     "execution_count": 161,
     "metadata": {},
     "output_type": "execute_result"
    }
   ],
   "execution_count": 161
  },
  {
   "metadata": {},
   "cell_type": "code",
   "outputs": [],
   "execution_count": null,
   "source": "",
   "id": "d4d97938ffece1eb"
  }
 ],
 "metadata": {
  "kernelspec": {
   "display_name": "Python 3",
   "language": "python",
   "name": "python3"
  },
  "language_info": {
   "codemirror_mode": {
    "name": "ipython",
    "version": 2
   },
   "file_extension": ".py",
   "mimetype": "text/x-python",
   "name": "python",
   "nbconvert_exporter": "python",
   "pygments_lexer": "ipython2",
   "version": "2.7.6"
  }
 },
 "nbformat": 4,
 "nbformat_minor": 5
}
