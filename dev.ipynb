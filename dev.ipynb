{
 "cells": [
  {
   "cell_type": "code",
   "id": "initial_id",
   "metadata": {
    "collapsed": true,
    "ExecuteTime": {
     "end_time": "2025-04-18T15:16:58.455144Z",
     "start_time": "2025-04-18T15:16:52.333162Z"
    }
   },
   "source": [
    "import numpy as np\n",
    "import importlib\n",
    "import matplotlib.pyplot as plt\n",
    "import sklearn.decomposition as decomposition\n",
    "import sklearn.ensemble as ensemble\n",
    "import sklearn.svm as svm"
   ],
   "outputs": [],
   "execution_count": 1
  },
  {
   "metadata": {
    "ExecuteTime": {
     "end_time": "2025-04-18T21:32:37.616776Z",
     "start_time": "2025-04-18T21:32:37.606222Z"
    }
   },
   "cell_type": "code",
   "source": [
    "import dataGenerator\n",
    "import featureSelectionMethods as fs\n",
    "importlib.reload(fs)\n",
    "importlib.reload(dataGenerator)"
   ],
   "id": "4ab41e5f40eb8528",
   "outputs": [
    {
     "data": {
      "text/plain": [
       "<module 'dataGenerator' from 'C:\\\\Users\\\\18pep\\\\Documents\\\\Sem_I\\\\DVaE\\\\Project\\\\dataGenerator.py'>"
      ]
     },
     "execution_count": 253,
     "metadata": {},
     "output_type": "execute_result"
    }
   ],
   "execution_count": 253
  },
  {
   "metadata": {
    "ExecuteTime": {
     "end_time": "2025-04-18T21:33:01.099752Z",
     "start_time": "2025-04-18T21:33:01.097532Z"
    }
   },
   "cell_type": "code",
   "source": "",
   "id": "15aff6fcfde873f1",
   "outputs": [
    {
     "name": "stdout",
     "output_type": "stream",
     "text": [
      "123\n"
     ]
    }
   ],
   "execution_count": 254
  },
  {
   "metadata": {
    "ExecuteTime": {
     "end_time": "2025-04-18T21:20:26.593226Z",
     "start_time": "2025-04-18T21:20:26.588998Z"
    }
   },
   "cell_type": "code",
   "source": [
    "X,y= (dataGenerator.dataGenerator(500)\n",
    "     .generate_relevant(0,5,1,1,5)\n",
    "     .generate_irrelevant(1,5)\n",
    "     .generate_correlated(5)\n",
    "     .generate_redundant(5)\n",
    "     .build())"
   ],
   "id": "1088ed58732ebbd1",
   "outputs": [],
   "execution_count": 251
  },
  {
   "metadata": {
    "ExecuteTime": {
     "end_time": "2025-04-18T21:20:26.712112Z",
     "start_time": "2025-04-18T21:20:26.708774Z"
    }
   },
   "cell_type": "code",
   "source": "fs.featureSelector(n=5).ANOVA_filter(X,y)",
   "id": "73496caaad269b31",
   "outputs": [
    {
     "data": {
      "text/plain": [
       "array([12, 14, 13, 16,  2])"
      ]
     },
     "execution_count": 252,
     "metadata": {},
     "output_type": "execute_result"
    }
   ],
   "execution_count": 252
  },
  {
   "metadata": {},
   "cell_type": "code",
   "outputs": [],
   "execution_count": null,
   "source": "",
   "id": "e29e9ce18f120c95"
  }
 ],
 "metadata": {
  "kernelspec": {
   "display_name": "Python 3",
   "language": "python",
   "name": "python3"
  },
  "language_info": {
   "codemirror_mode": {
    "name": "ipython",
    "version": 2
   },
   "file_extension": ".py",
   "mimetype": "text/x-python",
   "name": "python",
   "nbconvert_exporter": "python",
   "pygments_lexer": "ipython2",
   "version": "2.7.6"
  }
 },
 "nbformat": 4,
 "nbformat_minor": 5
}
