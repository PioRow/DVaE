{
 "cells": [
  {
   "cell_type": "code",
   "id": "initial_id",
   "metadata": {
    "collapsed": true,
    "ExecuteTime": {
     "end_time": "2025-04-15T14:48:09.837811Z",
     "start_time": "2025-04-15T14:48:09.833421Z"
    }
   },
   "source": [
    "import numpy as np\n",
    "import importlib\n",
    "import matplotlib.pyplot as plt\n",
    "import sklearn.decomposition as decomposition\n",
    "import sklearn.ensemble as ensemble\n",
    "import sklearn.svm as svm"
   ],
   "outputs": [],
   "execution_count": 167
  },
  {
   "metadata": {
    "ExecuteTime": {
     "end_time": "2025-04-15T14:48:10.412337Z",
     "start_time": "2025-04-15T14:48:10.387596Z"
    }
   },
   "cell_type": "code",
   "source": [
    "import dataGenerator\n",
    "importlib.reload(dataGenerator)"
   ],
   "id": "4ab41e5f40eb8528",
   "outputs": [
    {
     "data": {
      "text/plain": [
       "<module 'dataGenerator' from 'C:\\\\Users\\\\18pep\\\\Documents\\\\sem_I\\\\DVaE\\\\clustering_dimensions_reduction\\\\dataGenerator.py'>"
      ]
     },
     "execution_count": 168,
     "metadata": {},
     "output_type": "execute_result"
    }
   ],
   "execution_count": 168
  },
  {
   "metadata": {
    "ExecuteTime": {
     "end_time": "2025-04-15T14:48:11.922308Z",
     "start_time": "2025-04-15T14:48:11.913021Z"
    }
   },
   "cell_type": "code",
   "source": [
    "X,y= (dataGenerator.dataGenerator(500)\n",
    "     .generate_relevant(0,2.5,1,1.5,5)\n",
    "     .generate_irrelevant(2,5)\n",
    "     .generate_correlated(5)\n",
    "     .generate_redundant(5)\n",
    "     .build())"
   ],
   "id": "1088ed58732ebbd1",
   "outputs": [],
   "execution_count": 169
  },
  {
   "metadata": {
    "ExecuteTime": {
     "end_time": "2025-04-15T14:49:03.262483Z",
     "start_time": "2025-04-15T14:49:03.256515Z"
    }
   },
   "cell_type": "code",
   "source": "X.var(axis=0)>2",
   "id": "1ea0132ef9b9159c",
   "outputs": [
    {
     "data": {
      "text/plain": [
       "array([ True,  True,  True,  True,  True, False, False, False, False,\n",
       "       False,  True,  True,  True,  True, False,  True,  True,  True,\n",
       "        True,  True])"
      ]
     },
     "execution_count": 177,
     "metadata": {},
     "output_type": "execute_result"
    }
   ],
   "execution_count": 177
  },
  {
   "metadata": {
    "ExecuteTime": {
     "end_time": "2025-04-14T13:13:08.029061Z",
     "start_time": "2025-04-14T13:13:08.023009Z"
    }
   },
   "cell_type": "code",
   "source": "",
   "id": "7acb1c4873e5ecf9",
   "outputs": [
    {
     "data": {
      "text/plain": [
       "array([[-2.79320187e+01, -6.07617389e+00, -5.31864327e+00,\n",
       "         6.26491239e-01, -9.24235186e-01],\n",
       "       [-2.78909200e+01, -5.48867073e+00, -4.03364110e+00,\n",
       "        -1.34036189e-01, -2.50840023e-01],\n",
       "       [-2.85884007e+01, -5.42245716e+00, -3.13617581e+00,\n",
       "         8.10309051e-01,  1.34366830e+00],\n",
       "       ...,\n",
       "       [-2.60753536e+01, -2.37145961e-01,  5.79463228e+00,\n",
       "        -1.72921412e+00,  5.79166255e+00],\n",
       "       [ 1.49671951e+02,  4.37165761e+01, -2.59603220e+00,\n",
       "        -3.78113039e+00,  1.00472226e+00],\n",
       "       [ 2.09332693e+02,  6.00620968e+01, -8.43476992e+00,\n",
       "        -1.89871742e-01,  5.77280077e-01]], shape=(500, 5))"
      ]
     },
     "execution_count": 161,
     "metadata": {},
     "output_type": "execute_result"
    }
   ],
   "execution_count": 161
  },
  {
   "metadata": {
    "ExecuteTime": {
     "end_time": "2025-04-15T15:05:23.455611Z",
     "start_time": "2025-04-15T15:05:23.422614Z"
    }
   },
   "cell_type": "code",
   "source": "import featureSelectionMethods",
   "id": "d4d97938ffece1eb",
   "outputs": [],
   "execution_count": 178
  },
  {
   "metadata": {
    "ExecuteTime": {
     "end_time": "2025-04-15T15:05:39.455607Z",
     "start_time": "2025-04-15T15:05:39.440761Z"
    }
   },
   "cell_type": "code",
   "source": "featureSelectionMethods.featureSelector(n=5).filter(X,y)",
   "id": "73496caaad269b31",
   "outputs": [
    {
     "name": "stdout",
     "output_type": "stream",
     "text": [
      "[3.87039935e-064 3.56166539e-076 1.57686948e-074 1.62735458e-076\n",
      " 1.26821043e-067 9.24787729e-001 9.62732056e-001 4.85588601e-001\n",
      " 2.59316116e-001 4.43108798e-001 3.03381921e-116 1.32259416e-114\n",
      " 3.56166539e-076 2.97733488e-114 1.10582622e-137 1.25990064e-017\n",
      " 1.26821043e-067 1.57686948e-074 2.31054584e-046 2.62508093e-026]\n"
     ]
    }
   ],
   "execution_count": 179
  }
 ],
 "metadata": {
  "kernelspec": {
   "display_name": "Python 3",
   "language": "python",
   "name": "python3"
  },
  "language_info": {
   "codemirror_mode": {
    "name": "ipython",
    "version": 2
   },
   "file_extension": ".py",
   "mimetype": "text/x-python",
   "name": "python",
   "nbconvert_exporter": "python",
   "pygments_lexer": "ipython2",
   "version": "2.7.6"
  }
 },
 "nbformat": 4,
 "nbformat_minor": 5
}
