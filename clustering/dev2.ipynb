{
 "cells": [
  {
   "cell_type": "code",
   "id": "initial_id",
   "metadata": {
    "collapsed": true,
    "ExecuteTime": {
     "end_time": "2025-04-29T21:26:11.045487Z",
     "start_time": "2025-04-29T21:25:56.005101Z"
    }
   },
   "source": [
    "import numpy as np\n",
    "import clustbench as cb\n",
    "import sklearn.cluster as clst\n",
    "import genieclust as gini\n",
    "import matplotlib.pyplot as plt\n"
   ],
   "outputs": [],
   "execution_count": 1
  },
  {
   "metadata": {
    "ExecuteTime": {
     "end_time": "2025-04-29T15:26:03.451403Z",
     "start_time": "2025-04-29T15:26:03.446950Z"
    }
   },
   "cell_type": "code",
   "source": "datasets=['a1','a2','a3','aggregation','birch1','birch2','compound','d31','r15','flame','jain','pathbased','spiral','s1','s2','s3','s4','unbalance']",
   "id": "d5d9fd1be2fe7857",
   "outputs": [],
   "execution_count": 5
  },
  {
   "metadata": {
    "ExecuteTime": {
     "end_time": "2025-04-29T20:28:22.471703Z",
     "start_time": "2025-04-29T20:28:22.461470Z"
    }
   },
   "cell_type": "code",
   "source": [
    "models=[clst.KMeans,clst.DBSCAN,gini.Genie(gini_threshold=0.3)]\n",
    "models_names=['KMeans','DBSCAN','Genie']\n",
    "b=cb.load_dataset(\"sipu\",\"r15\",path=\"./clustering-data-v1\")"
   ],
   "id": "f328523579845dc5",
   "outputs": [],
   "execution_count": 25
  },
  {
   "metadata": {
    "ExecuteTime": {
     "end_time": "2025-04-29T21:23:57.620801Z",
     "start_time": "2025-04-29T21:23:57.602736Z"
    }
   },
   "cell_type": "code",
   "source": "res=cb.fit_predict_many(gini.Genie(gini_threshold=0.5),b.data,b.n_clusters)",
   "id": "b63582dad0e87847",
   "outputs": [],
   "execution_count": 146
  },
  {
   "metadata": {
    "ExecuteTime": {
     "end_time": "2025-04-29T21:17:28.868898Z",
     "start_time": "2025-04-29T21:17:28.864375Z"
    }
   },
   "cell_type": "code",
   "source": "np.unique(res[9])",
   "id": "6ec96ab4220b1113",
   "outputs": [
    {
     "data": {
      "text/plain": [
       "array([1, 2, 3, 4, 5, 6, 7, 8, 9])"
      ]
     },
     "execution_count": 120,
     "metadata": {},
     "output_type": "execute_result"
    }
   ],
   "execution_count": 120
  },
  {
   "metadata": {
    "ExecuteTime": {
     "end_time": "2025-04-29T20:28:31.348125Z",
     "start_time": "2025-04-29T20:28:31.343384Z"
    }
   },
   "cell_type": "code",
   "source": [
    "def comparison_for_dataset(dataset,models,models_names):\n",
    "    "
   ],
   "id": "e00c26b5e5b103c8",
   "outputs": [],
   "execution_count": 26
  },
  {
   "metadata": {
    "ExecuteTime": {
     "end_time": "2025-04-29T21:24:03.363090Z",
     "start_time": "2025-04-29T21:24:03.357637Z"
    }
   },
   "cell_type": "code",
   "source": "r=comparison_for_dataset(b,models,models_names)",
   "id": "d4b6e407fbcab84f",
   "outputs": [],
   "execution_count": 147
  },
  {
   "metadata": {
    "ExecuteTime": {
     "end_time": "2025-04-29T21:24:04.579680Z",
     "start_time": "2025-04-29T21:24:04.571136Z"
    }
   },
   "cell_type": "code",
   "source": [
    "def plot_results(b,r,name,ds,save=False):\n",
    "    plt.figure(figsize=(16,10))\n",
    "    for j,i in enumerate(r.keys()):\n",
    "        plt.subplot(1,3,j+1)\n",
    "        plt.title(ds+\" \"+name +\" \"+str(i))\n",
    "        \n",
    "        gini.plots.plot_scatter(b.data,labels=r[i])\n",
    "        lbl_idx=np.argwhere(b.n_clusters==i)[0][0]\n",
    "        score=cb.get_score(b.labels[lbl_idx], r[i])\n",
    "        score=\"score: \"+str(round(score,3))\n",
    "        plt.text(0.01,0.99,s=score,ha='left',va='top',transform=plt.gca().transAxes,c=\"#AA00AA\")\n",
    "        plt.plot()\n",
    "    if save:\n",
    "        plt.savefig(\"clusters/\"+ds+\"_\"+name+\".png\")\n",
    "        "
   ],
   "id": "24c2837f291334d",
   "outputs": [],
   "execution_count": 148
  },
  {
   "metadata": {},
   "cell_type": "code",
   "outputs": [],
   "execution_count": null,
   "source": "",
   "id": "65033838d8694fde"
  }
 ],
 "metadata": {
  "kernelspec": {
   "display_name": "Python 3",
   "language": "python",
   "name": "python3"
  },
  "language_info": {
   "codemirror_mode": {
    "name": "ipython",
    "version": 2
   },
   "file_extension": ".py",
   "mimetype": "text/x-python",
   "name": "python",
   "nbconvert_exporter": "python",
   "pygments_lexer": "ipython2",
   "version": "2.7.6"
  }
 },
 "nbformat": 4,
 "nbformat_minor": 5
}
